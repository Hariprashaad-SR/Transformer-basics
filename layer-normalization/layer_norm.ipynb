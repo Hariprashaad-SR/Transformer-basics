{
  "nbformat": 4,
  "nbformat_minor": 0,
  "metadata": {
    "colab": {
      "provenance": []
    },
    "kernelspec": {
      "name": "python3",
      "display_name": "Python 3"
    },
    "language_info": {
      "name": "python"
    }
  },
  "cells": [
    {
      "cell_type": "markdown",
      "source": [
        "## **Layer normalisation**\n",
        "Layer Normalization Explained\n",
        "Layer normalization (LN) is a technique in deep learning used to stabilize the training process and improve the performance of neural networks. It addresses the internal covariate shift (ICS) problem, where the distribution of activations within a layer changes during training, making it difficult for the network to learn effectively.\n",
        "\n",
        "- stable training\n",
        "- faster\n",
        "\n",
        "x' = f(W.transpose @ b)\n",
        "\n",
        "y = $gamma * \\frac{(x' - mean)} {sd} + beta$"
      ],
      "metadata": {
        "id": "Pb4cWy7J3h7J"
      }
    },
    {
      "cell_type": "markdown",
      "source": [
        "Example:\n",
        "```\n",
        "[[0.2, 0.1, 0.3],\n",
        " [0.5, 0.1, 0.1]]\n",
        "\n",
        " mean1 = 0.2 + 0.1 + 0.3 / 3 = 0.6 / 3 = 0.2\n",
        " mean2 = 0.5 + 0.1 + 0.1 / 3 = 0.7 / 3 = 0.233\n",
        "\n",
        " sd1 = sqrt(1/3((0.2 - 0.2)^2 + (0.1 - 0.2)^2 + (0.3 - 0.2)^2))\n",
        "     = 0.08614\n",
        "\n",
        "\n",
        " sd2 = sqrt(1/3((0.5 - 0.233)^2 + (0.1 - 0.233)^2 + (0.1 - 0.233)^2))\n",
        "     = 0.1885\n",
        "\n",
        "mean = [mean1,\n",
        "        mean2]\n",
        "     = [0.2,\n",
        "        0.233]\n",
        "\n",
        "sd = [sd1,\n",
        "      sd2]\n",
        "   = [0.086,\n",
        "      0.1885]\n",
        "\n",
        "\n",
        "Y = X - mean / sd\n",
        "out = gamma * Y + beta (mean = 0, sd = 1)\n",
        "```"
      ],
      "metadata": {
        "id": "Kn7CIFxb4M7f"
      }
    },
    {
      "cell_type": "code",
      "source": [
        "import torch\n",
        "import torch.nn as nn"
      ],
      "metadata": {
        "id": "FHF_i_TZ5tSk"
      },
      "execution_count": 1,
      "outputs": []
    },
    {
      "cell_type": "code",
      "execution_count": 2,
      "metadata": {
        "colab": {
          "base_uri": "https://localhost:8080/"
        },
        "id": "AaqapaHc0TiT",
        "outputId": "378d2154-2046-4b4d-d053-2e2004d72889"
      },
      "outputs": [
        {
          "output_type": "execute_result",
          "data": {
            "text/plain": [
              "torch.Size([2, 1, 3])"
            ]
          },
          "metadata": {},
          "execution_count": 2
        }
      ],
      "source": [
        "input = torch.tensor([[[0.2, 0.1, 0.3],[0.5, 0.1, 0.1]]])\n",
        "B,S,E = input.size()\n",
        "input = input.reshape(S, B, E)\n",
        "input.shape"
      ]
    },
    {
      "cell_type": "code",
      "source": [
        "# embedding dim\n",
        "params_shape = input.size()[-2 :]\n",
        "\n",
        "# initialising gamma and beta\n",
        "gamma = nn.Parameter(torch.ones(params_shape))\n",
        "beta = nn.Parameter(torch.zeros(params_shape))"
      ],
      "metadata": {
        "id": "S51E_0pq5-9l"
      },
      "execution_count": 3,
      "outputs": []
    },
    {
      "cell_type": "code",
      "source": [
        "# dims across which mean and sd are calculated\n",
        "dims = [-(i + 1) for i in range(len(params_shape))]\n",
        "dims"
      ],
      "metadata": {
        "colab": {
          "base_uri": "https://localhost:8080/"
        },
        "id": "dxXOU1Vx6dCF",
        "outputId": "d51a43d3-da7d-40d6-9e43-022b782e30ce"
      },
      "execution_count": 4,
      "outputs": [
        {
          "output_type": "execute_result",
          "data": {
            "text/plain": [
              "[-1, -2]"
            ]
          },
          "metadata": {},
          "execution_count": 4
        }
      ]
    },
    {
      "cell_type": "code",
      "source": [
        "mean = input.mean(dim = dims, keepdim = True)\n",
        "mean"
      ],
      "metadata": {
        "colab": {
          "base_uri": "https://localhost:8080/"
        },
        "id": "DytyWEl07UaV",
        "outputId": "a08da995-9409-432e-97b4-087226be1673"
      },
      "execution_count": 5,
      "outputs": [
        {
          "output_type": "execute_result",
          "data": {
            "text/plain": [
              "tensor([[[0.2000]],\n",
              "\n",
              "        [[0.2333]]])"
            ]
          },
          "metadata": {},
          "execution_count": 5
        }
      ]
    },
    {
      "cell_type": "code",
      "source": [
        "# Since for 0 variance, the sd becomes infinity, hence we add a small epsilon value to the denominator\n",
        "epsilon = 1e-5"
      ],
      "metadata": {
        "id": "zerd792Z8jSh"
      },
      "execution_count": 6,
      "outputs": []
    },
    {
      "cell_type": "code",
      "source": [
        "var = ((input - mean) ** 2).mean(dim = dims, keepdim = True)\n",
        "sd = (var + epsilon).sqrt()\n",
        "sd"
      ],
      "metadata": {
        "colab": {
          "base_uri": "https://localhost:8080/"
        },
        "id": "Iah9kM677ob4",
        "outputId": "eae21b62-0dfe-47b6-d2e8-8ff81342ea03"
      },
      "execution_count": 7,
      "outputs": [
        {
          "output_type": "execute_result",
          "data": {
            "text/plain": [
              "tensor([[[0.0817]],\n",
              "\n",
              "        [[0.1886]]])"
            ]
          },
          "metadata": {},
          "execution_count": 7
        }
      ]
    },
    {
      "cell_type": "code",
      "source": [
        "X_dash = (input - mean) / sd\n",
        "X_dash"
      ],
      "metadata": {
        "colab": {
          "base_uri": "https://localhost:8080/"
        },
        "id": "GUXSmJUL8XwP",
        "outputId": "c65f37e8-7219-4aea-a386-75ad6b04216d"
      },
      "execution_count": 8,
      "outputs": [
        {
          "output_type": "execute_result",
          "data": {
            "text/plain": [
              "tensor([[[ 0.0000, -1.2238,  1.2238]],\n",
              "\n",
              "        [[ 1.4140, -0.7070, -0.7070]]])"
            ]
          },
          "metadata": {},
          "execution_count": 8
        }
      ]
    },
    {
      "cell_type": "code",
      "source": [
        "Y = gamma * X_dash + beta\n",
        "Y"
      ],
      "metadata": {
        "colab": {
          "base_uri": "https://localhost:8080/"
        },
        "id": "cTUVQ-ks8tIY",
        "outputId": "29b66069-10e9-4964-8eab-3b3eb523c38a"
      },
      "execution_count": 9,
      "outputs": [
        {
          "output_type": "execute_result",
          "data": {
            "text/plain": [
              "tensor([[[ 0.0000, -1.2238,  1.2238]],\n",
              "\n",
              "        [[ 1.4140, -0.7070, -0.7070]]], grad_fn=<AddBackward0>)"
            ]
          },
          "metadata": {},
          "execution_count": 9
        }
      ]
    },
    {
      "cell_type": "markdown",
      "source": [
        "### **Summary**"
      ],
      "metadata": {
        "id": "AVS60MCK81Nm"
      }
    },
    {
      "cell_type": "code",
      "source": [
        "class LayerNorm():\n",
        "  def __init__(self, params_shape, eps = 1e-5):\n",
        "    self.params_shape = params_shape\n",
        "    self.eps = eps\n",
        "    self.gamma = nn.Parameter(torch.ones(params_shape))\n",
        "    self.beta = nn.Parameter(torch.zeros(params_shape))\n",
        "\n",
        "  def forward(self, input):\n",
        "    dims = [-(i + 1) for i in range(len(self.params_shape))]\n",
        "    mean = input.mean(dim = dims, keepdim = True)\n",
        "    var = ((input - mean) ** 2).mean(dim = dims , keepdim = True)\n",
        "    sd = (var + self.eps).sqrt()\n",
        "    X_dash = (input - mean) / sd\n",
        "    Y = self.gamma * X_dash + self.beta\n",
        "\n",
        "    return Y"
      ],
      "metadata": {
        "id": "pWRfIlRe826d"
      },
      "execution_count": 10,
      "outputs": []
    },
    {
      "cell_type": "code",
      "source": [
        "input = torch.tensor([[[0.2, 0.1, 0.3],[0.5, 0.1, 0.1]]])\n",
        "B,S,E = input.size()\n",
        "input = input.reshape(S, B, E)\n",
        "params_shape = input.size()[-2 :]"
      ],
      "metadata": {
        "id": "aU8q9PVNAoal"
      },
      "execution_count": 11,
      "outputs": []
    },
    {
      "cell_type": "code",
      "source": [
        "norm = LayerNorm(params_shape)\n",
        "norm.forward(input)\n"
      ],
      "metadata": {
        "colab": {
          "base_uri": "https://localhost:8080/"
        },
        "id": "FvvVheWRA1EL",
        "outputId": "4509924d-6b08-4e73-b82a-55b5a500f3a3"
      },
      "execution_count": 12,
      "outputs": [
        {
          "output_type": "execute_result",
          "data": {
            "text/plain": [
              "tensor([[[ 0.0000, -1.2238,  1.2238]],\n",
              "\n",
              "        [[ 1.4140, -0.7070, -0.7070]]], grad_fn=<AddBackward0>)"
            ]
          },
          "metadata": {},
          "execution_count": 12
        }
      ]
    },
    {
      "cell_type": "markdown",
      "source": [
        "---\n",
        "### END!\n"
      ],
      "metadata": {
        "id": "d5F9ww8iyqkY"
      }
    }
  ]
}